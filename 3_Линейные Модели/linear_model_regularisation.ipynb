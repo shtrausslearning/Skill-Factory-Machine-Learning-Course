{
  "cells": [
    {
      "cell_type": "markdown",
      "metadata": {
        "id": "pUQKRKfexr-R"
      },
      "source": [
        "# **Линейная/Логистическая Регрессия**\n",
        "\n",
        "## **<span style='color:#F1A424'>Добавление Регуляризации</span>**\n",
        "\n",
        "Реализуем регуляризацию в линейную модель\n",
        "\n",
        "- Для борьбы с переобучением добавим регуляризацию\n",
        "- Сначала обернём линейную регрессию в классовое представление\n",
        "- **Потом добавим вариант с регуляризации** (В этом ноутбуке)"
      ]
    },
    {
      "cell_type": "markdown",
      "metadata": {
        "id": "F8f14KzPxr-U"
      },
      "source": [
        "### **Общая Функция Градиентного Спуска**\n",
        "\n",
        "- Добавим то что мы добавили ранее в классовую форму\n",
        "- `regOptimiser` добавляем общие функции которые используются как и в регрессии так и в классификации с градиентным спуском\n",
        "\n",
        "Пройдемся по компонентам общего класса:\n",
        "- <code>gradient_step</code> - функция шага градиентного спуска\n",
        "- <code>optimize</code> - функция для обновления гипертараметра theta"
      ]
    },
    {
      "cell_type": "code",
      "execution_count": 4,
      "metadata": {
        "id": "BGKZYvX-xr-U"
      },
      "outputs": [],
      "source": [
        "import numpy as np\n",
        "\n",
        "class regOpt():\n",
        "\n",
        "    # initialisation\n",
        "\n",
        "    def __init__(self, alpha, n_iters):\n",
        "        self.theta = None\n",
        "        self._alpha = alpha\n",
        "        self._n_iters = n_iters\n",
        "\n",
        "    # gradient step\n",
        "\n",
        "    def gradient_step(self, theta, theta_grad):\n",
        "        return theta - self._alpha * theta_grad\n",
        "\n",
        "    # gradient function\n",
        "\n",
        "    def grad_func(self, X, y, theta):\n",
        "        raise NotImplementedError()\n",
        "\n",
        "    # optimisation process of theta\n",
        "\n",
        "    def optimize(self, X, y, start_theta, n_iters):\n",
        "\n",
        "        # theta_0\n",
        "        theta = start_theta.copy()\n",
        "\n",
        "        for _ in range(n_iters):\n",
        "            theta_grad = self.grad_func(X, y, theta)\n",
        "            theta = self.gradient_step(theta, theta_grad)\n",
        "\n",
        "        return theta\n",
        "\n",
        "    # Тренируем модель\n",
        "    def fit(self, X, y):\n",
        "        m = X.shape[1]\n",
        "        start_theta = np.ones(m)\n",
        "        self.theta = self.optimize(X, y, start_theta, self._n_iters)\n",
        "\n",
        "    # Делаем предсказание\n",
        "    def predict(self, X):\n",
        "        raise NotImplementedError()"
      ]
    },
    {
      "cell_type": "markdown",
      "metadata": {
        "id": "7vqDYVtYxr-W"
      },
      "source": [
        "### **Дочерний Класс для LinReg**\n",
        "\n",
        "Создадим еще один дочерний класс, в этот раз для <code>LinReg</code>, внесем корректировку в <code>grad_func</code>:\n",
        "\n",
        "После добавления регуляризации функция ошибки линейной регрессии будет выглядеть следующим образом:\n",
        "\n",
        "\n",
        "$$L=\\frac{1}{2n} * \\sum_{i=1}^{n}{(y_i - \\theta^Tx_i)^2} + \\frac{\\lambda}{2m}\\sum_{j}^{m}{\\theta_j^2}$$\n",
        "\n",
        "\n",
        "А ее градиент по параметру $\\theta$:\n",
        "\n",
        "\n",
        "$$\\nabla L = \\frac{1}{n}\\sum_{i=1}^{n}{(\\theta^Tx_i - y_i) \\cdot x_i} + \\frac{\\lambda}{m}\\sum_{j=1}^{m}{\\theta_j} = \\frac{1}{n}X^T(X\\theta - y) + \\frac{\\lambda}{m}\\sum_{j=1}^{m}{\\theta_j}$$"
      ]
    },
    {
      "cell_type": "code",
      "execution_count": 6,
      "metadata": {
        "id": "OsVrPwGsxr-W"
      },
      "outputs": [],
      "source": [
        "# linReg будет иметь доступ к функции из regOptimiser\n",
        "class LinReg(regOpt):\n",
        "\n",
        "    # для линейной регресии у нас функция потерь\n",
        "    def grad_func(self, X, y, theta):\n",
        "        n = X.shape[0]\n",
        "        grad = 1.0 / n * X.T.dot(X.dot(theta) - y)\n",
        "        return grad\n",
        "\n",
        "    # для линейной регрессии предсказание X.theta\n",
        "    def predict(self, X):\n",
        "        if(self.theta is None):\n",
        "            raise Exception('You should train the model first')\n",
        "\n",
        "        y_pred = X.dot(self.theta)\n",
        "\n",
        "        return y_pred\n",
        ""
      ]
    },
    {
      "cell_type": "code",
      "source": [
        "# Линейная регрессия с регуляризации\n",
        "class rLinReg(LinReg):\n",
        "\n",
        "    # initialise parent class\n",
        "    def __init__(self, alpha, lambd, n_iters):\n",
        "        super(rLinReg, self).__init__(alpha, n_iters)\n",
        "        self._lambd = lambd\n",
        "\n",
        "    # method overwriting\n",
        "    def grad_func(self, X, y, theta):\n",
        "        n = X.shape[0]\n",
        "        grad = 1.0 / n * X.T.dot(X.dot(theta) - y) # стандартный градиент функции потерь\n",
        "        grad_term = self._lambd * np.mean(theta)   # дополнительный термин\n",
        "        return grad + grad_term"
      ],
      "metadata": {
        "id": "rzV6RA9z1mJP"
      },
      "execution_count": 7,
      "outputs": []
    },
    {
      "cell_type": "markdown",
      "metadata": {
        "id": "3trcUx9p4CQx"
      },
      "source": [
        "Проверим модель на примере предсказания стоимости жилья в Бостоне (задача регрессии)"
      ]
    },
    {
      "cell_type": "code",
      "execution_count": 10,
      "metadata": {
        "colab": {
          "base_uri": "https://localhost:8080/"
        },
        "id": "cTUxA-q3xr-X",
        "outputId": "5585949e-c6bc-40c0-a584-85abda245393"
      },
      "outputs": [
        {
          "output_type": "stream",
          "name": "stdout",
          "text": [
            "MSE = 21.75, RMSE = 4.66\n"
          ]
        }
      ],
      "source": [
        "import pandas as pd\n",
        "import numpy as np\n",
        "from sklearn.metrics import mean_squared_error\n",
        "from sklearn.model_selection import train_test_split\n",
        "from matplotlib import pyplot as plt\n",
        "\n",
        "# Функци для определения RMSE\n",
        "def print_regression_metrics(y_true, y_pred):\n",
        "    mse = mean_squared_error(y_true, y_pred)\n",
        "    rmse = np.sqrt(mse)\n",
        "    print(f'MSE = {mse:.2f}, RMSE = {rmse:.2f}')\n",
        "\n",
        "# Функуия для предобработки & подготовки X,y\n",
        "def prepare_boston_data():\n",
        "    df = pd.read_csv('data.csv')\n",
        "    y = df['medv']\n",
        "    X = df.drop(['medv'],axis=1)\n",
        "\n",
        "    # Нормализовать даннные с помощью стандартной нормализации\n",
        "    X = (X - X.mean(axis=0)) / X.std(axis=0)\n",
        "    # Добавить фиктивный столбец единиц (bias линейной модели)\n",
        "    X = np.hstack([np.ones(X.shape[0])[:,None], X])\n",
        "    return X, y\n",
        "\n",
        "# Иницилизируем линейной регрессии с alpha = 0.01, 500 итерации\n",
        "linreg = rLinReg(alpha=0.01, lambd=0.05, n_iters=500)\n",
        "\n",
        "# Разбиваем выборку на тренировочную и валидационную выборку\n",
        "X, y = prepare_boston_data()\n",
        "X_train, X_valid, y_train, y_valid = train_test_split(X, y, test_size=0.2)\n",
        "\n",
        "# Тренируем модель на train выборке\n",
        "linreg.fit(X_train, y_train)\n",
        "\n",
        "# Предсказываем и оцениваем качество модели на валидационной выборке\n",
        "y_pred = linreg.predict(X_valid)\n",
        "print_regression_metrics(y_valid, y_pred)\n",
        "\n",
        "# без регуляризации : MSE = 26.19"
      ]
    },
    {
      "cell_type": "markdown",
      "metadata": {
        "id": "dtjMsChBxr-X"
      },
      "source": [
        "### **Дочерний Класс для LogReg**\n",
        "\n",
        "Функция ошибки для логистической регрессии в случае бинарной классификации с регуляризатором записывается следующим образом:\n",
        "\n",
        "\n",
        "$$L=-\\frac{1}{n}(y_i \\log h_{\\theta}(x_i) + (1-y_i) \\log(1-h_{\\theta}(x_i)))+\\frac{\\lambda}{2m}\\sum_{j}^{m}{\\theta_j^2},$$\n",
        "\n",
        "\n",
        "- $x_i$ — вектор признаков\n",
        "- $i$-го примера из обучающей выборки\n",
        "- $y_i$ — истинный класс для соответствующего примера (0 или 1),- $n$ — число примеров в обучающей выборке\n",
        "- $m$ — количество нефиктивных признаков\n",
        "- $\\lambda$ — параметр регуляризации\n",
        "- $h_{\\theta}(x)$ — sigmoid функция, равная:\n",
        "\n",
        "\n",
        "$$h_{\\theta}(x)=\\frac{1}{1+\\exp^{-\\theta x}},$$\n",
        "\n",
        "\n",
        "- $\\theta$ — вектор параметров логистической регрессии,\n",
        "- $x$ - вектор признаков объекта из выборки."
      ]
    },
    {
      "cell_type": "markdown",
      "source": [
        "Соответствующий градиент функции ошибки равен:\n",
        "\n",
        "\n",
        "$$\\nabla L=\\frac{1}{n}\\sum_{i=1}^{n}{(h_{\\theta}(x_i)-y_i)x_i}+\\frac{\\lambda}{m}\\sum_{j}^{m}{\\theta_j}$$"
      ],
      "metadata": {
        "id": "u_dAxtZW3TAV"
      }
    },
    {
      "cell_type": "code",
      "source": [
        "from sklearn.metrics import f1_score, accuracy_score\n",
        "\n",
        "class LogReg(regOpt):\n",
        "\n",
        "    def sigmoid(self, X, theta):\n",
        "        return 1.0 / (1.0 + np.exp(-X.dot(theta)))\n",
        "\n",
        "    # отличие только в self.sigmoid(X, theta)\n",
        "    def grad_func(self, X, y, theta):\n",
        "        n = X.shape[0]\n",
        "        grad = 1.0 / n * X.T.dot(self.sigmoid(X, theta) - y)\n",
        "\n",
        "        return grad\n",
        "\n",
        "    # Вероятность принадлежности класса (0/1)\n",
        "    def predict_proba(self, X):\n",
        "        return self.sigmoid(X, self.theta)\n",
        "\n",
        "    # Предсказание с порогом 0.5\n",
        "    def predict(self, X):\n",
        "        if self.theta is None:\n",
        "            raise Exception('You should train the model first')\n",
        "\n",
        "        y_pred = self.predict_proba(X) > 0.5\n",
        "\n",
        "        return y_pred"
      ],
      "metadata": {
        "id": "ElJZYVEG3eHH"
      },
      "execution_count": 11,
      "outputs": []
    },
    {
      "cell_type": "code",
      "source": [
        "# нам нужно изменить только градиент функции огибки\n",
        "\n",
        "class rLogReg(LogReg):\n",
        "\n",
        "    def __init__(self, alpha, lambd, n_iters):\n",
        "        super(rLogReg, self).__init__(alpha, n_iters)\n",
        "        self._lambd = lambd\n",
        "\n",
        "    # добавляем дополнительный термин\n",
        "    def grad_func(self, X, y, theta):\n",
        "        n = X.shape[0]\n",
        "        grad = 1.0 / n * X.T.dot(self.sigmoid(X, theta) - y)\n",
        "        grad_term = self._lambd * np.mean(theta)\n",
        "        return grad + grad_term"
      ],
      "metadata": {
        "id": "yOjl0lIe3bV4"
      },
      "execution_count": 12,
      "outputs": []
    },
    {
      "cell_type": "code",
      "source": [
        "def print_logisitc_metrics(y_true, y_pred):\n",
        "    acc = accuracy_score(y_true, y_pred)\n",
        "    f1 = f1_score(y_true, y_pred)\n",
        "    print(f'acc = {acc:.2f} F1-score = {f1:.2f}')\n",
        "\n",
        "def prepare_adult_data():\n",
        "\n",
        "    adult = pd.read_csv('adult.data',\n",
        "                        names=['age', 'workclass', 'fnlwgt', 'education',\n",
        "                               'education-num', 'marital-status', 'occupation',\n",
        "                               'relationship', 'race', 'sex', 'capital-gain',\n",
        "                               'capital-loss', 'hours-per-week', 'native-country', 'salary'])\n",
        "\n",
        "    # Избавиться от лишних признаков\n",
        "    adult.drop(['native-country'], axis=1, inplace=True)\n",
        "    # Сконвертировать целевой столбец в бинарные значения\n",
        "    adult['salary'] = (adult['salary'] != ' <=50K').astype('int32')\n",
        "    # Сделать one-hot encoding для некоторых признаков\n",
        "    adult = pd.get_dummies(adult, columns=['workclass', 'education', 'marital-status',\n",
        "                                           'occupation', 'relationship', 'race', 'sex'])\n",
        "\n",
        "    # Нормализовать нуждающиеся в этом признаки\n",
        "    a_features = adult[['age', 'education-num', 'hours-per-week', 'fnlwgt', 'capital-gain', 'capital-loss']].values\n",
        "    norm_features = (a_features - a_features.mean(axis=0)) / a_features.std(axis=0)\n",
        "    adult.loc[:, ['age', 'education-num', 'hours-per-week', 'fnlwgt', 'capital-gain', 'capital-loss']] = norm_features\n",
        "\n",
        "    # Разбить таблицу данных на матрицы X и y\n",
        "    X = adult[list(set(adult.columns) - set(['salary']))].values\n",
        "    y = adult['salary'].values\n",
        "\n",
        "    # Добавить фиктивный столбец единиц (bias линейной модели)\n",
        "    X = np.hstack([np.ones(X.shape[0])[:,None], X])\n",
        "\n",
        "    return X, y"
      ],
      "metadata": {
        "id": "HelTgQxl5HSm"
      },
      "execution_count": 16,
      "outputs": []
    },
    {
      "cell_type": "markdown",
      "source": [
        "Проверим модель на примере предсказания клссификации доходов (задача бирарной классификации)"
      ],
      "metadata": {
        "id": "NHHyUruF5278"
      }
    },
    {
      "cell_type": "code",
      "source": [
        "logreg = rLogReg(alpha=1.0, lambd=1.0, n_iters=300)\n",
        "X, y = prepare_adult_data()\n",
        "X_train, X_valid, y_train, y_valid = train_test_split(X, y, test_size=0.2)\n",
        "\n",
        "logreg.fit(X_train, y_train)\n",
        "y_pred = logreg.predict(X_valid)\n",
        "print_logisitc_metrics(y_valid, y_pred)"
      ],
      "metadata": {
        "colab": {
          "base_uri": "https://localhost:8080/"
        },
        "id": "kUMwOf-34kCR",
        "outputId": "441384c7-e429-411b-fa6b-2c7b6a1d322f"
      },
      "execution_count": 18,
      "outputs": [
        {
          "output_type": "stream",
          "name": "stdout",
          "text": [
            "acc = 0.86 F1-score = 0.67\n"
          ]
        }
      ]
    },
    {
      "cell_type": "code",
      "source": [
        "from sklearn.metrics import roc_curve, roc_auc_score\n",
        "\n",
        "# Отрисовать ROC кривую\n",
        "def calc_and_plot_roc(y_true, y_pred_proba):\n",
        "    # Посчитать значения ROC кривой и значение площади под кривой AUC\n",
        "    fpr, tpr, thresholds = roc_curve(y_true, y_pred_proba)\n",
        "    roc_auc = roc_auc_score(y_true, y_pred_proba)\n",
        "\n",
        "    plt.figure(figsize=(4, 4))\n",
        "    plt.plot(fpr, tpr, label=f'AUC = {roc_auc:.2f}')\n",
        "    plt.title('Receiver Operating Characteristic', fontsize=10)\n",
        "    plt.xlabel('False positive rate (FPR)', fontsize=10)\n",
        "    plt.ylabel('True positive rate (TPR)', fontsize=10)\n",
        "    plt.legend(fontsize=10)"
      ],
      "metadata": {
        "id": "gu2Z6wQJ5t1b"
      },
      "execution_count": 19,
      "outputs": []
    },
    {
      "cell_type": "code",
      "source": [
        "y_pred_proba = logreg.predict_proba(X_valid)\n",
        "calc_and_plot_roc(y_valid, y_pred_proba)"
      ],
      "metadata": {
        "colab": {
          "base_uri": "https://localhost:8080/",
          "height": 407
        },
        "id": "SQ0cQBEp5l1R",
        "outputId": "022a668d-3558-44d5-d669-4ac4e2550923"
      },
      "execution_count": 20,
      "outputs": [
        {
          "output_type": "display_data",
          "data": {
            "text/plain": [
              "<Figure size 400x400 with 1 Axes>"
            ],
            "image/png": "[encoded data removed]"
          },
          "metadata": {}
        }
      ]
    }
  ],
  "metadata": {
    "colab": {
      "provenance": []
    },
    "kernelspec": {
      "display_name": "Python 3",
      "language": "python",
      "name": "python3"
    },
    "language_info": {
      "codemirror_mode": {
        "name": "ipython",
        "version": 3
      },
      "file_extension": ".py",
      "mimetype": "text/x-python",
      "name": "python",
      "nbconvert_exporter": "python",
      "pygments_lexer": "ipython3",
      "version": "3.10.10"
    }
  },
  "nbformat": 4,
  "nbformat_minor": 0
}