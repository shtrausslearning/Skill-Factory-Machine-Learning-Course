{
  "nbformat": 4,
  "nbformat_minor": 0,
  "metadata": {
    "colab": {
      "provenance": [],
      "include_colab_link": true
    },
    "kernelspec": {
      "name": "python3",
      "display_name": "Python 3"
    },
    "language_info": {
      "name": "python"
    }
  },
  "cells": [
    {
      "cell_type": "markdown",
      "metadata": {
        "id": "view-in-github",
        "colab_type": "text"
      },
      "source": [
        "<a href=\"https://colab.research.google.com/github/shtrausslearning/sf_mldl/blob/main/python_recap.ipynb\" target=\"_parent\"><img src=\"https://colab.research.google.com/assets/colab-badge.svg\" alt=\"Open In Colab\"/></a>"
      ]
    },
    {
      "cell_type": "markdown",
      "source": [
        "# Mutable / Immutable"
      ],
      "metadata": {
        "id": "6-Dj91B1SlCH"
      }
    },
    {
      "cell_type": "code",
      "execution_count": null,
      "metadata": {
        "colab": {
          "base_uri": "https://localhost:8080/"
        },
        "id": "DhjU3VwfSXc-",
        "outputId": "abacf5ea-124d-4a7c-9ef2-481935abb602"
      },
      "outputs": [
        {
          "output_type": "stream",
          "name": "stdout",
          "text": [
            "140220319157552\n",
            "140220318908592\n",
            "False\n",
            "True\n",
            "Ivan Ivan\n"
          ]
        }
      ],
      "source": [
        "user_1 = 'Ivan'\n",
        "user_2 = 'Ivan'\n",
        "user_2 += ' '  # new obj\n",
        "user_2 = user_2[:-1]\n",
        "\n",
        "# user_2_as_list = list(user_2)  # immutable -> mutable\n",
        "# user_2_as_list.append(' ')\n",
        "# user_2 = ''.join(user_2_as_list)  # mutable -> immutable\n",
        "\n",
        "# print(type(user_1))\n",
        "# print(dir(user_1))\n",
        "print(id(user_1))\n",
        "print(id(user_2))\n",
        "print(user_1 is user_2)\n",
        "print(user_1 == user_2)\n",
        "print(user_1, user_2)\n",
        "\n",
        "\n",
        "var_1 = 1\n",
        "var_2 = '1'\n",
        "# print(var_1 == var_2)\n",
        "# print(int(var_1) == int(var_2))\n",
        "# print(str(var_1) == str(var_2))\n"
      ]
    },
    {
      "cell_type": "code",
      "source": [
        "users = ['Ivan', 'Olga', ['Boris']]\n",
        "# users_2 = users.copy()  # deepcopy()\n",
        "users_2 = users[:]\n",
        "print(users is users_2)\n",
        "\n",
        "users_2.append('Oleg')\n",
        "users_2[2].append('Fred')\n",
        "print(users)\n",
        "print(users_2)"
      ],
      "metadata": {
        "colab": {
          "base_uri": "https://localhost:8080/"
        },
        "id": "tsnPJzBaSoZr",
        "outputId": "1a4bb563-c052-4fe7-9c37-20919cc158c7"
      },
      "execution_count": null,
      "outputs": [
        {
          "output_type": "stream",
          "name": "stdout",
          "text": [
            "False\n",
            "['Ivan', 'Olga', ['Boris', 'Fred']]\n",
            "['Ivan', 'Olga', ['Boris', 'Fred'], 'Oleg']\n"
          ]
        }
      ]
    },
    {
      "cell_type": "markdown",
      "source": [
        "# Loops"
      ],
      "metadata": {
        "id": "qguqNaAiUoWr"
      }
    },
    {
      "cell_type": "code",
      "source": [
        "users = ['Ivan', 'Olga', 'Oleg', 'Irina']\n",
        "# print(f'Hello, {users[0]}!')\n",
        "# print(f'Hello, {users[1]}!')\n",
        "# print(f'Hello, {users[2]}!')\n",
        "\n",
        "# i = 0\n",
        "# while i < len(users):\n",
        "#     print(f'Hello, {users[i]}!')\n",
        "#     i += 1\n",
        "# else:\n",
        "#     print('ok')\n",
        "\n",
        "# i = 0\n",
        "# while True:\n",
        "#     print(f'Hello, {users[i]}!')\n",
        "#     i += 1\n",
        "#     if i >= len(users):\n",
        "#         break\n",
        "\n",
        "# i, j, k\n",
        "is_ok = True\n",
        "for user in users:\n",
        "    print(f'Hello, {user}!')\n",
        "    if user == 'Olga':\n",
        "        is_ok = False\n",
        "        break\n",
        "    else:\n",
        "        print('ok')\n",
        "\n",
        "    if is_ok:\n",
        "        pass\n"
      ],
      "metadata": {
        "colab": {
          "base_uri": "https://localhost:8080/"
        },
        "id": "sTJt1V-0TWJR",
        "outputId": "49b280ae-741b-4073-d800-46dbd1f2692e"
      },
      "execution_count": null,
      "outputs": [
        {
          "output_type": "stream",
          "name": "stdout",
          "text": [
            "Hello, Ivan!\n",
            "Hello, Olga!\n"
          ]
        }
      ]
    },
    {
      "cell_type": "code",
      "source": [
        "users = ['Ivan', 'Olga', 'Oleg', 'Irina']\n",
        "\n",
        "print('Bob' in users)  # O(n)\n",
        "\n",
        "for el in users:  # O(n ** 2)\n",
        "    print('Bob' in users)\n",
        "\n",
        "\n",
        "users = {'Ivan', 'Olga', 'Oleg', 'Irina'}\n",
        "print('Bob' in users)  # O(1)\n",
        "\n",
        "for el in users:  # O(n)\n",
        "    print('Bob' in users)\n"
      ],
      "metadata": {
        "colab": {
          "base_uri": "https://localhost:8080/"
        },
        "id": "mqhjPDcjUsiX",
        "outputId": "cd1ee2c7-4c60-4ff0-d3ba-42ba4b7dd262"
      },
      "execution_count": null,
      "outputs": [
        {
          "output_type": "stream",
          "name": "stdout",
          "text": [
            "False\n",
            "False\n",
            "False\n",
            "False\n",
            "False\n",
            "False\n",
            "False\n",
            "False\n",
            "False\n",
            "False\n"
          ]
        }
      ]
    },
    {
      "cell_type": "code",
      "source": [
        "# users = {\n",
        "#     'Ivan': ['Moscow', 25],\n",
        "#     'Olga': ['Moscow', 20],\n",
        "#     'Oleg': ['Moscow', 30],\n",
        "#     'Irina': ['Moscow', 35]\n",
        "# }\n",
        "users = {\n",
        "    ('Ivan', 1): ['Moscow', 25],\n",
        "    ('Olga', 1): ['Moscow', 20],\n",
        "    ('Oleg', 3): ['Moscow', 30],\n",
        "    ('Irina', 2): ['Moscow', 35]\n",
        "}\n",
        "print(users)\n"
      ],
      "metadata": {
        "colab": {
          "base_uri": "https://localhost:8080/"
        },
        "id": "mmwQKYEDUxj2",
        "outputId": "10a8bd0e-611b-4a21-c8ee-36599f49c549"
      },
      "execution_count": null,
      "outputs": [
        {
          "output_type": "stream",
          "name": "stdout",
          "text": [
            "{('Ivan', 1): ['Moscow', 25], ('Olga', 1): ['Moscow', 20], ('Oleg', 3): ['Moscow', 30], ('Irina', 2): ['Moscow', 35]}\n"
          ]
        }
      ]
    },
    {
      "cell_type": "markdown",
      "source": [
        "# Functions"
      ],
      "metadata": {
        "id": "bvO7ewytgYLK"
      }
    },
    {
      "cell_type": "code",
      "source": [
        "def greet_users(users):  # aka procedure\n",
        "    for user in users:\n",
        "        print(f'Hello, {user}!')\n",
        "    # return None\n",
        "\n",
        "\n",
        "def greet_users_2(users):  # aka function\n",
        "    result = []\n",
        "    for user in users:\n",
        "        result.append(f'Hello, {user}!')\n",
        "    return '\\n'.join(result)\n",
        "\n",
        "\n",
        "users = ['Ivan', 'Olga', 'Oleg', 'Irina']\n",
        "# print(greet_users(users))\n",
        "greet_users(users)\n",
        "print(greet_users_2(users))\n",
        "# users_2 = ['Egor', 'Nikolay', 'Boris']\n",
        "# greet_users(users_2)\n"
      ],
      "metadata": {
        "colab": {
          "base_uri": "https://localhost:8080/"
        },
        "id": "mF71P2HOVtng",
        "outputId": "066a3df3-7e2b-4a8d-9489-9a977a9e2da0"
      },
      "execution_count": null,
      "outputs": [
        {
          "output_type": "stream",
          "name": "stdout",
          "text": [
            "Hello, Ivan!\n",
            "Hello, Olga!\n",
            "Hello, Oleg!\n",
            "Hello, Irina!\n",
            "Hello, Ivan!\n",
            "Hello, Olga!\n",
            "Hello, Oleg!\n",
            "Hello, Irina!\n"
          ]
        }
      ]
    },
    {
      "cell_type": "code",
      "source": [
        "def greet_users(users):  # aka procedure\n",
        "    for user in users:\n",
        "        print(f'Hello, {user}!')\n",
        "    # return None\n",
        "\n",
        "\n",
        "def greet_users_2(users):  # aka function\n",
        "    result = []\n",
        "    for user in users:\n",
        "        result.append(f'Hello, {user}!')\n",
        "    return '\\n'.join(result)\n",
        "\n",
        "\n",
        "users = ['Ivan', 'Olga', 'Oleg', 'Irina']\n",
        "# users.append('Sergey')\n",
        "# users = users.append('Sergey')\n",
        "# print(greet_users(users))\n",
        "greet_users(users)\n",
        "print(greet_users_2(users))\n",
        "# users_2 = ['Egor', 'Nikolay', 'Boris']\n",
        "# greet_users(users_2)\n"
      ],
      "metadata": {
        "colab": {
          "base_uri": "https://localhost:8080/"
        },
        "id": "p6-WWjSHga2M",
        "outputId": "6ccae48c-6468-4e95-b50b-d8512dbd905d"
      },
      "execution_count": null,
      "outputs": [
        {
          "output_type": "stream",
          "name": "stdout",
          "text": [
            "Hello, Ivan!\n",
            "Hello, Olga!\n",
            "Hello, Oleg!\n",
            "Hello, Irina!\n",
            "Hello, Ivan!\n",
            "Hello, Olga!\n",
            "Hello, Oleg!\n",
            "Hello, Irina!\n"
          ]
        }
      ]
    },
    {
      "cell_type": "code",
      "source": [
        "def greet_user(user):\n",
        "    return f'Hello, {user}!'\n",
        "\n",
        "\n",
        "def greet_users(users):\n",
        "    result = []\n",
        "    for user in users:\n",
        "        result.append(greet_user(user))\n",
        "    return '\\n'.join(result)\n",
        "\n",
        "\n",
        "users = ['Ivan', 'Olga', 'Oleg', 'Irina']\n",
        "# print(greet_users(users))\n",
        "# txt = list(map(greet_user, users))  # memory O(n)\n",
        "# txt = map(greet_user, users)  # memory O(1)\n",
        "# txt = '\\n'.join(txt)\n",
        "txt = '\\n'.join(map(greet_user, users))  # be declarative, O(n)\n",
        "print(txt)\n",
        "print(type(txt))\n"
      ],
      "metadata": {
        "id": "3X7cDBd6ggqd"
      },
      "execution_count": null,
      "outputs": []
    },
    {
      "cell_type": "code",
      "source": [
        "foo = lambda: print(\"Hello world!\")\n",
        "foo()\n",
        "\n",
        "foo = lambda x, y: print(\"result = {}\".format(x + 1 + y))\n",
        "foo(1, 2)"
      ],
      "metadata": {
        "colab": {
          "base_uri": "https://localhost:8080/"
        },
        "id": "TJyy3LofgukS",
        "outputId": "95daf71a-0528-4fce-8f45-8e44a3c62970"
      },
      "execution_count": null,
      "outputs": [
        {
          "output_type": "stream",
          "name": "stdout",
          "text": [
            "Hello world!\n",
            "result = 4\n"
          ]
        }
      ]
    },
    {
      "cell_type": "code",
      "source": [],
      "metadata": {
        "id": "IzmG5pYLheWy"
      },
      "execution_count": null,
      "outputs": []
    }
  ]
}