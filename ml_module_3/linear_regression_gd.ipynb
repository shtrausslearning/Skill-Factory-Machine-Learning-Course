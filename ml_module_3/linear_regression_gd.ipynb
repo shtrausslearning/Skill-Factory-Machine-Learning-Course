{
  "cells": [
    {
      "cell_type": "markdown",
      "metadata": {
        "id": "qnt1ewLjQB01"
      },
      "source": [
        "## **Линейная регрессия**\n",
        "\n",
        "### **Градиентный Спуск**\n",
        "\n",
        "Существует несколько вариантов для выбора **гипераметров** линейной регрессии посмотрим\n",
        "- Через прямые матричные операции\n",
        "- **Через градиентны спуск** (посмотрим здесь)\n",
        "\n",
        "\n",
        "### **Предсказание цены жилья**\n",
        "\n",
        "- Загружаем датасет про цены домов в Бостоне; нужно предсказать медиану цены жилья в 506 районах\n",
        "- Это задача регрессии (предсказываем непрерывные числа)\n",
        "- Для оценки модели будем использовать RMSE, MSE\n",
        "- Проверим обобщающую способность модели с помощью train_test_split"
      ]
    },
    {
      "cell_type": "code",
      "execution_count": 24,
      "metadata": {
        "colab": {
          "base_uri": "https://localhost:8080/",
          "height": 206
        },
        "id": "tonisgvbQB04",
        "outputId": "2df56f32-d7a6-4c35-fdb2-b58bffa46fdb"
      },
      "outputs": [
        {
          "data": {
            "text/html": [
              "\n",
              "\n",
              "  <div id=\"df-987306ff-670c-4a26-a640-00dd4d7045af\">\n",
              "    <div class=\"colab-df-container\">\n",
              "      <div>\n",
              "<style scoped>\n",
              "    .dataframe tbody tr th:only-of-type {\n",
              "        vertical-align: middle;\n",
              "    }\n",
              "\n",
              "    .dataframe tbody tr th {\n",
              "        vertical-align: top;\n",
              "    }\n",
              "\n",
              "    .dataframe thead th {\n",
              "        text-align: right;\n",
              "    }\n",
              "</style>\n",
              "<table border=\"1\" class=\"dataframe\">\n",
              "  <thead>\n",
              "    <tr style=\"text-align: right;\">\n",
              "      <th></th>\n",
              "      <th>crim</th>\n",
              "      <th>zn</th>\n",
              "      <th>indus</th>\n",
              "      <th>chas</th>\n",
              "      <th>nox</th>\n",
              "      <th>rm</th>\n",
              "      <th>age</th>\n",
              "      <th>dis</th>\n",
              "      <th>rad</th>\n",
              "      <th>tax</th>\n",
              "      <th>ptratio</th>\n",
              "      <th>black</th>\n",
              "      <th>lstat</th>\n",
              "      <th>medv</th>\n",
              "    </tr>\n",
              "  </thead>\n",
              "  <tbody>\n",
              "    <tr>\n",
              "      <th>0</th>\n",
              "      <td>0.00632</td>\n",
              "      <td>18.0</td>\n",
              "      <td>2.31</td>\n",
              "      <td>0</td>\n",
              "      <td>0.538</td>\n",
              "      <td>6.575</td>\n",
              "      <td>65.2</td>\n",
              "      <td>4.0900</td>\n",
              "      <td>1</td>\n",
              "      <td>296</td>\n",
              "      <td>15.3</td>\n",
              "      <td>396.90</td>\n",
              "      <td>4.98</td>\n",
              "      <td>24.0</td>\n",
              "    </tr>\n",
              "    <tr>\n",
              "      <th>1</th>\n",
              "      <td>0.02731</td>\n",
              "      <td>0.0</td>\n",
              "      <td>7.07</td>\n",
              "      <td>0</td>\n",
              "      <td>0.469</td>\n",
              "      <td>6.421</td>\n",
              "      <td>78.9</td>\n",
              "      <td>4.9671</td>\n",
              "      <td>2</td>\n",
              "      <td>242</td>\n",
              "      <td>17.8</td>\n",
              "      <td>396.90</td>\n",
              "      <td>9.14</td>\n",
              "      <td>21.6</td>\n",
              "    </tr>\n",
              "    <tr>\n",
              "      <th>2</th>\n",
              "      <td>0.02729</td>\n",
              "      <td>0.0</td>\n",
              "      <td>7.07</td>\n",
              "      <td>0</td>\n",
              "      <td>0.469</td>\n",
              "      <td>7.185</td>\n",
              "      <td>61.1</td>\n",
              "      <td>4.9671</td>\n",
              "      <td>2</td>\n",
              "      <td>242</td>\n",
              "      <td>17.8</td>\n",
              "      <td>392.83</td>\n",
              "      <td>4.03</td>\n",
              "      <td>34.7</td>\n",
              "    </tr>\n",
              "    <tr>\n",
              "      <th>3</th>\n",
              "      <td>0.03237</td>\n",
              "      <td>0.0</td>\n",
              "      <td>2.18</td>\n",
              "      <td>0</td>\n",
              "      <td>0.458</td>\n",
              "      <td>6.998</td>\n",
              "      <td>45.8</td>\n",
              "      <td>6.0622</td>\n",
              "      <td>3</td>\n",
              "      <td>222</td>\n",
              "      <td>18.7</td>\n",
              "      <td>394.63</td>\n",
              "      <td>2.94</td>\n",
              "      <td>33.4</td>\n",
              "    </tr>\n",
              "    <tr>\n",
              "      <th>4</th>\n",
              "      <td>0.06905</td>\n",
              "      <td>0.0</td>\n",
              "      <td>2.18</td>\n",
              "      <td>0</td>\n",
              "      <td>0.458</td>\n",
              "      <td>7.147</td>\n",
              "      <td>54.2</td>\n",
              "      <td>6.0622</td>\n",
              "      <td>3</td>\n",
              "      <td>222</td>\n",
              "      <td>18.7</td>\n",
              "      <td>396.90</td>\n",
              "      <td>5.33</td>\n",
              "      <td>36.2</td>\n",
              "    </tr>\n",
              "  </tbody>\n",
              "</table>\n",
              "</div>\n",
              "      <button class=\"colab-df-convert\" onclick=\"convertToInteractive('df-987306ff-670c-4a26-a640-00dd4d7045af')\"\n",
              "              title=\"Convert this dataframe to an interactive table.\"\n",
              "              style=\"display:none;\">\n",
              "\n",
              "  <svg xmlns=\"http://www.w3.org/2000/svg\" height=\"24px\"viewBox=\"0 0 24 24\"\n",
              "       width=\"24px\">\n",
              "    <path d=\"M0 0h24v24H0V0z\" fill=\"none\"/>\n",
              "    <path d=\"M18.56 5.44l.94 2.06.94-2.06 2.06-.94-2.06-.94-.94-2.06-.94 2.06-2.06.94zm-11 1L8.5 8.5l.94-2.06 2.06-.94-2.06-.94L8.5 2.5l-.94 2.06-2.06.94zm10 10l.94 2.06.94-2.06 2.06-.94-2.06-.94-.94-2.06-.94 2.06-2.06.94z\"/><path d=\"M17.41 7.96l-1.37-1.37c-.4-.4-.92-.59-1.43-.59-.52 0-1.04.2-1.43.59L10.3 9.45l-7.72 7.72c-.78.78-.78 2.05 0 2.83L4 21.41c.39.39.9.59 1.41.59.51 0 1.02-.2 1.41-.59l7.78-7.78 2.81-2.81c.8-.78.8-2.07 0-2.86zM5.41 20L4 18.59l7.72-7.72 1.47 1.35L5.41 20z\"/>\n",
              "  </svg>\n",
              "      </button>\n",
              "\n",
              "\n",
              "\n",
              "    <div id=\"df-83cf04ff-8509-47af-a5ae-bd3ad14ca848\">\n",
              "      <button class=\"colab-df-quickchart\" onclick=\"quickchart('df-83cf04ff-8509-47af-a5ae-bd3ad14ca848')\"\n",
              "              title=\"Suggest charts.\"\n",
              "              style=\"display:none;\">\n",
              "\n",
              "<svg xmlns=\"http://www.w3.org/2000/svg\" height=\"24px\"viewBox=\"0 0 24 24\"\n",
              "     width=\"24px\">\n",
              "    <g>\n",
              "        <path d=\"M19 3H5c-1.1 0-2 .9-2 2v14c0 1.1.9 2 2 2h14c1.1 0 2-.9 2-2V5c0-1.1-.9-2-2-2zM9 17H7v-7h2v7zm4 0h-2V7h2v10zm4 0h-2v-4h2v4z\"/>\n",
              "    </g>\n",
              "</svg>\n",
              "      </button>\n",
              "    </div>\n",
              "\n",
              "<style>\n",
              "  .colab-df-quickchart {\n",
              "    background-color: #E8F0FE;\n",
              "    border: none;\n",
              "    border-radius: 50%;\n",
              "    cursor: pointer;\n",
              "    display: none;\n",
              "    fill: #1967D2;\n",
              "    height: 32px;\n",
              "    padding: 0 0 0 0;\n",
              "    width: 32px;\n",
              "  }\n",
              "\n",
              "  .colab-df-quickchart:hover {\n",
              "    background-color: #E2EBFA;\n",
              "    box-shadow: 0px 1px 2px rgba(60, 64, 67, 0.3), 0px 1px 3px 1px rgba(60, 64, 67, 0.15);\n",
              "    fill: #174EA6;\n",
              "  }\n",
              "\n",
              "  [theme=dark] .colab-df-quickchart {\n",
              "    background-color: #3B4455;\n",
              "    fill: #D2E3FC;\n",
              "  }\n",
              "\n",
              "  [theme=dark] .colab-df-quickchart:hover {\n",
              "    background-color: #434B5C;\n",
              "    box-shadow: 0px 1px 3px 1px rgba(0, 0, 0, 0.15);\n",
              "    filter: drop-shadow(0px 1px 2px rgba(0, 0, 0, 0.3));\n",
              "    fill: #FFFFFF;\n",
              "  }\n",
              "</style>\n",
              "\n",
              "    <script>\n",
              "      async function quickchart(key) {\n",
              "        const containerElement = document.querySelector('#' + key);\n",
              "        const charts = await google.colab.kernel.invokeFunction(\n",
              "            'suggestCharts', [key], {});\n",
              "      }\n",
              "    </script>\n",
              "\n",
              "      <script>\n",
              "\n",
              "function displayQuickchartButton(domScope) {\n",
              "  let quickchartButtonEl =\n",
              "    domScope.querySelector('#df-83cf04ff-8509-47af-a5ae-bd3ad14ca848 button.colab-df-quickchart');\n",
              "  quickchartButtonEl.style.display =\n",
              "    google.colab.kernel.accessAllowed ? 'block' : 'none';\n",
              "}\n",
              "\n",
              "        displayQuickchartButton(document);\n",
              "      </script>\n",
              "      <style>\n",
              "    .colab-df-container {\n",
              "      display:flex;\n",
              "      flex-wrap:wrap;\n",
              "      gap: 12px;\n",
              "    }\n",
              "\n",
              "    .colab-df-convert {\n",
              "      background-color: #E8F0FE;\n",
              "      border: none;\n",
              "      border-radius: 50%;\n",
              "      cursor: pointer;\n",
              "      display: none;\n",
              "      fill: #1967D2;\n",
              "      height: 32px;\n",
              "      padding: 0 0 0 0;\n",
              "      width: 32px;\n",
              "    }\n",
              "\n",
              "    .colab-df-convert:hover {\n",
              "      background-color: #E2EBFA;\n",
              "      box-shadow: 0px 1px 2px rgba(60, 64, 67, 0.3), 0px 1px 3px 1px rgba(60, 64, 67, 0.15);\n",
              "      fill: #174EA6;\n",
              "    }\n",
              "\n",
              "    [theme=dark] .colab-df-convert {\n",
              "      background-color: #3B4455;\n",
              "      fill: #D2E3FC;\n",
              "    }\n",
              "\n",
              "    [theme=dark] .colab-df-convert:hover {\n",
              "      background-color: #434B5C;\n",
              "      box-shadow: 0px 1px 3px 1px rgba(0, 0, 0, 0.15);\n",
              "      filter: drop-shadow(0px 1px 2px rgba(0, 0, 0, 0.3));\n",
              "      fill: #FFFFFF;\n",
              "    }\n",
              "  </style>\n",
              "\n",
              "      <script>\n",
              "        const buttonEl =\n",
              "          document.querySelector('#df-987306ff-670c-4a26-a640-00dd4d7045af button.colab-df-convert');\n",
              "        buttonEl.style.display =\n",
              "          google.colab.kernel.accessAllowed ? 'block' : 'none';\n",
              "\n",
              "        async function convertToInteractive(key) {\n",
              "          const element = document.querySelector('#df-987306ff-670c-4a26-a640-00dd4d7045af');\n",
              "          const dataTable =\n",
              "            await google.colab.kernel.invokeFunction('convertToInteractive',\n",
              "                                                     [key], {});\n",
              "          if (!dataTable) return;\n",
              "\n",
              "          const docLinkHtml = 'Like what you see? Visit the ' +\n",
              "            '<a target=\"_blank\" href=https://colab.research.google.com/notebooks/data_table.ipynb>data table notebook</a>'\n",
              "            + ' to learn more about interactive tables.';\n",
              "          element.innerHTML = '';\n",
              "          dataTable['output_type'] = 'display_data';\n",
              "          await google.colab.output.renderOutput(dataTable, element);\n",
              "          const docLink = document.createElement('div');\n",
              "          docLink.innerHTML = docLinkHtml;\n",
              "          element.appendChild(docLink);\n",
              "        }\n",
              "      </script>\n",
              "    </div>\n",
              "  </div>\n"
            ],
            "text/plain": [
              "      crim    zn  indus  chas    nox     rm   age     dis  rad  tax  ptratio  \\\n",
              "0  0.00632  18.0   2.31     0  0.538  6.575  65.2  4.0900    1  296     15.3   \n",
              "1  0.02731   0.0   7.07     0  0.469  6.421  78.9  4.9671    2  242     17.8   \n",
              "2  0.02729   0.0   7.07     0  0.469  7.185  61.1  4.9671    2  242     17.8   \n",
              "3  0.03237   0.0   2.18     0  0.458  6.998  45.8  6.0622    3  222     18.7   \n",
              "4  0.06905   0.0   2.18     0  0.458  7.147  54.2  6.0622    3  222     18.7   \n",
              "\n",
              "    black  lstat  medv  \n",
              "0  396.90   4.98  24.0  \n",
              "1  396.90   9.14  21.6  \n",
              "2  392.83   4.03  34.7  \n",
              "3  394.63   2.94  33.4  \n",
              "4  396.90   5.33  36.2  "
            ]
          },
          "execution_count": 24,
          "metadata": {},
          "output_type": "execute_result"
        }
      ],
      "source": [
        "import pandas as pd\n",
        "import numpy as np\n",
        "\n",
        "df = pd.read_csv('data.csv')\n",
        "df.head()"
      ]
    },
    {
      "cell_type": "code",
      "execution_count": 32,
      "metadata": {
        "id": "kmnjk9ubQB06"
      },
      "outputs": [],
      "source": [
        "# работаем с тензорами без req_grad\n",
        "import torch\n",
        "\n",
        "y = df['medv']\n",
        "X = df.drop(['medv'],axis=1)\n",
        "\n",
        "# Стандартизируем наши данные;\n",
        "# алгоритм работает стабильнее когда данные стандартизированные\n",
        "X = (X - X.mean(axis=0)) / X.std(axis=0)\n",
        "\n",
        "# Добавляем вектор из единиц к нашим данным\n",
        "X = np.hstack([np.ones(X.shape[0])[:,None], X])\n",
        "\n",
        "X = torch.tensor(X)\n",
        "y = torch.tensor(y.values)"
      ]
    },
    {
      "cell_type": "markdown",
      "metadata": {
        "id": "UwdYAiWWQB07"
      },
      "source": [
        "### **Использованием методов оптимизации**\n",
        "\n",
        "Для реализации линейной регрессии с помощью методов оптимизации будем использовать функцию ошибки **среднего квадратичного**, которая является выпуклой функцией в n-мерном пространстве $\\mathbb{R}^n$ и в общем виде выглядит следующим образом:\n",
        "$$MSE = \\frac{1}{n} * \\sum_{i=1}^{n}{(y_i - a(x_i))^2}.$$\n",
        "\n",
        "- $x_i$ — вектор-признак $i$-го объекта обучающей выборки\n",
        "- $y_i$ — истинное значение для $i$-го объекта,\n",
        "- $a(x)$ — алгоритм, предсказывающий для данного объекта $x$ целевое значение\n",
        "- $n$ — кол-во объектов в выборке"
      ]
    },
    {
      "cell_type": "markdown",
      "metadata": {
        "id": "q49JtFp3QB08"
      },
      "source": [
        "В случае линейной регрессии $MSE$ представляется как:\n",
        "$$MSE(X, y, \\theta) = \\frac{1}{2n} * \\sum_{i=1}^{n}{(y_i - \\theta^Tx_i)^2} = \\frac{1}{2n} \\lVert{y - X\\theta}\\rVert_{2}^{2}=\\frac{1}{2n} (y - X\\theta)^T(y - X\\theta),$$\n",
        "\n",
        "- $\\theta$ — параметр модели линейной регрессии\n",
        "- $X$ — матрица объекты-признаки\n",
        "- $y$ - вектор истинных значений, соответствующих $X$"
      ]
    },
    {
      "cell_type": "markdown",
      "metadata": {
        "id": "H2wC98r9QB08"
      },
      "source": [
        "Возьмем первый вариант представления функции ошибки и **посчитаем ее градиент по параметру $\\theta$**, предварительно переименовав $MSE$ в $L$:\n",
        "$$L=\\frac{1}{2n} * \\sum_{i=1}^{n}{(y_i - \\theta^Tx_i)^2}$$\n",
        "$$\\nabla L = \\frac{1}{n}\\sum_{i=1}^{n}{(\\theta^Tx_i - y_i) \\cdot x_i} = \\frac{1}{n}X^T(X\\theta - y)$$"
      ]
    },
    {
      "cell_type": "code",
      "execution_count": 33,
      "metadata": {
        "id": "T2ZR3suOQB09"
      },
      "outputs": [],
      "source": [
        "from torch import matmul\n",
        "\n",
        "# 1) вычисления градиента функции MSE\n",
        "# Это самое важное dL/dtheta для MSE\n",
        "\n",
        "def calc_mse_gradient(X,y,theta):\n",
        "    n = X.size()[0]\n",
        "    val = matmul(X,theta)-y\n",
        "    grad = (1/n) * matmul(X.transpose(1,0),val)\n",
        "    return grad\n",
        "\n",
        "# calc_mse_gradient(X,y,theta)\n",
        "\n",
        "# 2) Шаг градиентного спуска\n",
        "def gradient_step(theta, theta_grad, alpha):\n",
        "    return theta - alpha * theta_grad\n",
        "\n",
        "# 3) Процедура оптимизации параметров модели\n",
        "\n",
        "def optimize(X, y, grad_func, start_theta, alpha, n_iters):\n",
        "\n",
        "    # начальное theta (theta0)\n",
        "    theta = start_theta.clone()\n",
        "\n",
        "    for i in range(n_iters):\n",
        "        theta_grad = grad_func(X, y, theta) # dL/dtheta\n",
        "        theta = gradient_step(theta, theta_grad, alpha) # Новый градиент\n",
        "\n",
        "    return theta\n"
      ]
    },
    {
      "cell_type": "code",
      "execution_count": 35,
      "metadata": {
        "colab": {
          "base_uri": "https://localhost:8080/"
        },
        "id": "w2Cq6nuLQB0-",
        "outputId": "d075b418-955b-4f5f-8a65-93659e8e10a9"
      },
      "outputs": [
        {
          "name": "stdout",
          "output_type": "stream",
          "text": [
            "tensor([22.3913, -0.6193,  0.5859, -0.2119,  0.7838, -0.7920,  3.3627, -0.0629,\n",
            "        -1.7392,  0.8547, -0.6576, -1.7481,  0.9747, -3.3063],\n",
            "       dtype=torch.float64)\n"
          ]
        }
      ],
      "source": [
        "# Оптимизировать параметр линейной регрессии theta на всех данных\n",
        "m = X.shape[1]                             # размерность задачи\n",
        "theta = optimize(X,\n",
        "                 y,\n",
        "                 calc_mse_gradient,        # функция для вычисления градиента\n",
        "                 torch.tensor(np.ones(m)), # Начальное theta\n",
        "                 0.01,                    #\n",
        "                 500)                      # количество итерации\n",
        "print(theta)"
      ]
    },
    {
      "cell_type": "code",
      "execution_count": 38,
      "metadata": {
        "colab": {
          "base_uri": "https://localhost:8080/"
        },
        "id": "YruhDIBJQB0-",
        "outputId": "433b7f90-3629-4dca-ee51-32bd2b7abceb"
      },
      "outputs": [
        {
          "data": {
            "text/plain": [
              "tensor([30.2735, 25.0164, 31.0352, 29.4691, 29.0785, 25.6656, 23.0928, 20.3691,\n",
              "        12.5569, 19.8964], dtype=torch.float64)"
            ]
          },
          "execution_count": 38,
          "metadata": {},
          "output_type": "execute_result"
        }
      ],
      "source": [
        "# Сделать предсказания при полученных параметрах\n",
        "y_pred = matmul(X,theta)\n",
        "y_pred[:10]"
      ]
    },
    {
      "cell_type": "markdown",
      "metadata": {
        "id": "5XvoeQWQQB0_"
      },
      "source": [
        "Посчитать значение ошибку RMSE для тренировочных данных"
      ]
    },
    {
      "cell_type": "code",
      "execution_count": 40,
      "metadata": {
        "id": "tCuUaJxRQB0_"
      },
      "outputs": [],
      "source": [
        "# Функция для вычисления RMSE, в торче нет RMSE\n",
        "# и не советуется просто брать nn.sqrt от MSELoss\n",
        "\n",
        "import torch\n",
        "from torch import nn\n",
        "\n",
        "class RMSELoss(nn.Module):\n",
        "    def __init__(self, eps=1e-6):\n",
        "        super().__init__()\n",
        "        self.mse = nn.MSELoss()\n",
        "        self.eps = eps\n",
        "\n",
        "    def forward(self,yhat,y):\n",
        "        loss = torch.sqrt(self.mse(yhat,y) + self.eps)\n",
        "        return loss"
      ]
    },
    {
      "cell_type": "code",
      "execution_count": 41,
      "metadata": {
        "colab": {
          "base_uri": "https://localhost:8080/"
        },
        "id": "OGlBBQe-QB1A",
        "outputId": "55589bea-69e9-4685-95d1-e6a13bda2ce2"
      },
      "outputs": [
        {
          "name": "stdout",
          "output_type": "stream",
          "text": [
            "23.065293347217054 4.802634105073699\n"
          ]
        }
      ],
      "source": [
        "from torch.nn import MSELoss\n",
        "import torch\n",
        "\n",
        "def print_regression_metrics(y_true,y_pred):\n",
        "    criterion_mse = MSELoss()\n",
        "    criterion_rmse = RMSELoss()\n",
        "    loss_mse = criterion_mse(y_true,y_pred)\n",
        "    loss_rmse = criterion_rmse(y_true,y_pred)\n",
        "    print(loss_mse.item(),loss_rmse.item())\n",
        "\n",
        "print_regression_metrics(y,y_pred)"
      ]
    },
    {
      "cell_type": "markdown",
      "metadata": {
        "id": "tNpfG0V3QB1A"
      },
      "source": [
        "#### **Проверим обобщающую способность модели**\n",
        "\n",
        "- Мы обучили модель на некой выборке, и на них же посчитали метрику качества\n",
        "- Мы не проверили обобщающую способность модели\n",
        "- Разбиваем выборку на train/valid, вычисляем theta\n",
        "- Делаем предсказание и вычисляем ошибки"
      ]
    },
    {
      "cell_type": "code",
      "execution_count": 42,
      "metadata": {
        "id": "raQQTXwEQB1A"
      },
      "outputs": [],
      "source": [
        "from sklearn.model_selection import train_test_split\n",
        "\n",
        "# Разделяем выборку та тестовую и валидационную часть\n",
        "X_train, X_valid, y_train, y_valid = train_test_split(X, y, test_size=0.5)\n",
        "\n",
        "# вычисляем theta на train\n",
        "# theta = linreg_linear(X_train, y_train)\n",
        "\n",
        "# Оптимизировать параметр линейной регрессии theta на всех данных\n",
        "m = X.shape[1]                             # размерность задачи\n",
        "theta = optimize(X_train,\n",
        "                 y_train,\n",
        "                 calc_mse_gradient,        # функция для вычисления градиента\n",
        "                 torch.tensor(np.ones(m)), # Начальное theta\n",
        "                 0.01,                    #\n",
        "                 500)                      # количество итерации\n",
        "\n",
        "# Предсказание у нас через matmul\n",
        "y_pred_tr = matmul(X_train,theta)\n",
        "y_pred_v = matmul(X_valid,theta)\n"
      ]
    },
    {
      "cell_type": "code",
      "execution_count": 43,
      "metadata": {
        "colab": {
          "base_uri": "https://localhost:8080/"
        },
        "id": "1FLUj9VLQB1B",
        "outputId": "f5e163cc-7ba2-49b8-ff9e-6d3073336811"
      },
      "outputs": [
        {
          "name": "stdout",
          "output_type": "stream",
          "text": [
            "21.916318730774698 4.68148691451495\n",
            "26.269302806950876 5.125358895428775\n"
          ]
        }
      ],
      "source": [
        "# Оцениваем качество модели\n",
        "print_regression_metrics(y_train,y_pred_tr)\n",
        "print_regression_metrics(y_valid,y_pred_v)"
      ]
    },
    {
      "cell_type": "markdown",
      "metadata": {
        "id": "LmyiUlJdQB1B"
      },
      "source": [
        "В sklearn есть реализация подобного подхода (для удобства)"
      ]
    },
    {
      "cell_type": "code",
      "execution_count": 44,
      "metadata": {
        "colab": {
          "base_uri": "https://localhost:8080/"
        },
        "id": "TAeFlpbKQB1B",
        "outputId": "327062c1-5937-4dfd-a2a1-a3a509e03fe0"
      },
      "outputs": [
        {
          "data": {
            "text/plain": [
              "24.201177136887257"
            ]
          },
          "execution_count": 44,
          "metadata": {},
          "output_type": "execute_result"
        }
      ],
      "source": [
        "from sklearn.linear_model import LinearRegression\n",
        "from sklearn.metrics import mean_squared_error\n",
        "\n",
        "lr = LinearRegression()\n",
        "lr.fit(X_train,y_train)\n",
        "y_pred = lr.predict(X_valid)\n",
        "mean_squared_error(y_pred,y_valid)\n"
      ]
    },
    {
      "cell_type": "markdown",
      "metadata": {},
      "source": [
        "### **Заключение**\n",
        "\n",
        "В этом ноутбуке мы рассмотрели как можно с помощью градиентного спуска оптимизировать параметры модели линейной регрессии, сделали мы это на примере задачи регрессии, в которой мы предсказали цены на жильё"
      ]
    }
  ],
  "metadata": {
    "colab": {
      "provenance": []
    },
    "kernelspec": {
      "display_name": "base",
      "language": "python",
      "name": "python3"
    },
    "language_info": {
      "codemirror_mode": {
        "name": "ipython",
        "version": 3
      },
      "file_extension": ".py",
      "mimetype": "text/x-python",
      "name": "python",
      "nbconvert_exporter": "python",
      "pygments_lexer": "ipython3",
      "version": "3.10.10"
    },
    "orig_nbformat": 4
  },
  "nbformat": 4,
  "nbformat_minor": 0
}
