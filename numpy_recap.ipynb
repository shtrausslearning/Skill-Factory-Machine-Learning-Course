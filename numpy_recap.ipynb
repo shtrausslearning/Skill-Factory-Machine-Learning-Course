{
  "nbformat": 4,
  "nbformat_minor": 0,
  "metadata": {
    "colab": {
      "provenance": [],
      "include_colab_link": true
    },
    "kernelspec": {
      "name": "python3",
      "display_name": "Python 3"
    },
    "language_info": {
      "name": "python"
    }
  },
  "cells": [
    {
      "cell_type": "markdown",
      "metadata": {
        "id": "view-in-github",
        "colab_type": "text"
      },
      "source": [
        "<a href=\"https://colab.research.google.com/github/shtrausslearning/sf_mldl/blob/main/numpy_recap.ipynb\" target=\"_parent\"><img src=\"https://colab.research.google.com/assets/colab-badge.svg\" alt=\"Open In Colab\"/></a>"
      ]
    },
    {
      "cell_type": "markdown",
      "source": [
        "# Numpy utils"
      ],
      "metadata": {
        "id": "-OHaR3Y1lTyu"
      }
    },
    {
      "cell_type": "code",
      "source": [
        "from functools import partial"
      ],
      "metadata": {
        "id": "ttSYNCEeljC5"
      },
      "execution_count": null,
      "outputs": []
    },
    {
      "cell_type": "code",
      "source": [
        "salary = [159.3, 563.7, 578.1, 248.3]\n",
        "\n",
        "scale = 1.05\n",
        "# salary_upd = [round(el * scale, 2) for el in salary]\n",
        "salary_upd = [el * scale for el in salary]\n",
        "# salary_upd_rounded = map(round, salary_upd)\n",
        "salary_upd_rounded = list(map(lambda x: round(x, 2), salary_upd))\n",
        "round_2 = partial(round, tol=2)\n",
        "# salary_upd = salary * scale\n",
        "print(salary)\n",
        "print(salary_upd)\n",
        "print(salary_upd_rounded)\n"
      ],
      "metadata": {
        "colab": {
          "base_uri": "https://localhost:8080/"
        },
        "id": "ZYFtajRNldMK",
        "outputId": "0a393e84-b553-45a6-cb45-0e8cd8ad1b92"
      },
      "execution_count": null,
      "outputs": [
        {
          "output_type": "stream",
          "name": "stdout",
          "text": [
            "[159.3, 563.7, 578.1, 248.3]\n",
            "[167.26500000000001, 591.8850000000001, 607.005, 260.71500000000003]\n",
            "[167.27, 591.89, 607.0, 260.72]\n"
          ]
        }
      ]
    },
    {
      "cell_type": "code",
      "execution_count": null,
      "metadata": {
        "colab": {
          "base_uri": "https://localhost:8080/"
        },
        "id": "4eA0hXpElRnR",
        "outputId": "d07a7f26-d337-4462-cd2b-8298a6465a7d"
      },
      "outputs": [
        {
          "output_type": "stream",
          "name": "stdout",
          "text": [
            "<class 'numpy.ndarray'>\n",
            "[1.593e-05 5.637e-05 5.781e-05 2.483e-05]\n",
            "[159.3000008  563.70000282 578.10000289 248.30000124]\n",
            "[159.3 563.7 578.1 248.3]\n",
            "[159.3, 563.7, 578.1, 248.3]\n"
          ]
        }
      ],
      "source": [
        "import numpy as np\n",
        "\n",
        "salary = [159.3 / 10000000, 563.7 / 10000000,\n",
        "          578.1 / 10000000, 248.3 / 10000000] * 1\n",
        "\n",
        "salary_as_np = np.array(salary)\n",
        "# salary_as_np = np.fromiter(map(round, salary), dtype='float32')\n",
        "\n",
        "print(type(salary_as_np))\n",
        "# print(salary)\n",
        "print(salary_as_np)\n",
        "\n",
        "scale = 10000000.05\n",
        "salary_upd = salary_as_np * scale\n",
        "print(salary_upd)\n",
        "print(np.round(salary_upd, 2))\n",
        "print(list(np.round(salary_upd, 2)))\n",
        "\n"
      ]
    },
    {
      "cell_type": "code",
      "source": [
        "# salary = [159.3, 563.7, 578.1, 248.3]\n",
        "# salary = [-159, 563, 578, 248]\n",
        "salary = [159, 563, 578, 248]\n",
        "\n",
        "# salary_as_np = np.array(salary)\n",
        "# salary_as_np = np.array(salary, dtype='uint32')\n",
        "# salary_as_np = np.array(salary, dtype='float32')\n",
        "salary_as_np = np.array(salary, dtype=np.float32)\n",
        "print(salary_as_np)\n",
        "print(salary_as_np.shape)\n",
        "print(salary_as_np.itemsize)\n",
        "print(salary_as_np.dtype)\n",
        "\n",
        "\n"
      ],
      "metadata": {
        "colab": {
          "base_uri": "https://localhost:8080/"
        },
        "id": "gYR31jLGlttI",
        "outputId": "3eb2c790-d251-442d-ef3a-a7195467dde4"
      },
      "execution_count": null,
      "outputs": [
        {
          "output_type": "stream",
          "name": "stdout",
          "text": [
            "[159. 563. 578. 248.]\n",
            "(4,)\n",
            "4\n",
            "float32\n"
          ]
        }
      ]
    },
    {
      "cell_type": "code",
      "source": [
        "! pip install memory_profiler"
      ],
      "metadata": {
        "colab": {
          "base_uri": "https://localhost:8080/"
        },
        "id": "07fr8sePl5Tb",
        "outputId": "a3a75ed7-7a31-46a3-96b1-b1c566fa8405"
      },
      "execution_count": null,
      "outputs": [
        {
          "output_type": "stream",
          "name": "stdout",
          "text": [
            "Looking in indexes: https://pypi.org/simple, https://us-python.pkg.dev/colab-wheels/public/simple/\n",
            "Collecting memory_profiler\n",
            "  Downloading memory_profiler-0.61.0-py3-none-any.whl (31 kB)\n",
            "Requirement already satisfied: psutil in /usr/local/lib/python3.8/dist-packages (from memory_profiler) (5.4.8)\n",
            "Installing collected packages: memory_profiler\n",
            "Successfully installed memory_profiler-0.61.0\n"
          ]
        }
      ]
    },
    {
      "cell_type": "code",
      "source": [
        "import numpy as np\n",
        "from memory_profiler import profile\n",
        "\n",
        "NUMS = 10 ** 6\n",
        "\n",
        "\n",
        "@profile\n",
        "def list_case():\n",
        "    nums = [num for num in range(NUMS)]\n",
        "    print(type(nums), len(nums), nums[-1])\n",
        "\n",
        "\n",
        "@profile\n",
        "def np_case():\n",
        "    nums = np.arange(NUMS)\n",
        "    print(type(nums), len(nums), nums[-1], nums.dtype)\n",
        "\n",
        "\n",
        "list_case()\n",
        "np_case()\n",
        "\n",
        "# if __name__ == \"__main__\":\n",
        "#   list_case()\n",
        "#   np_case()"
      ],
      "metadata": {
        "id": "WfA_tUuulxN9"
      },
      "execution_count": null,
      "outputs": []
    },
    {
      "cell_type": "code",
      "source": [
        "salary = [579, 470, 193, 328, 478, 236, 697]\n",
        "print(sorted(salary))\n",
        "salary_as_np = np.array(salary)\n",
        "print(salary_as_np.mean())\n",
        "print(np.mean(salary_as_np))\n",
        "print(np.median(salary_as_np))\n",
        "\n",
        "percents = (1, 5, 10, 25, 50, 75, 95, 99)\n",
        "# percents = (25, 50, 75)\n",
        "salary_stat = np.percentile(salary_as_np, percents)\n",
        "print(salary_stat)\n",
        "print(dict(zip(percents, salary_stat)))\n"
      ],
      "metadata": {
        "colab": {
          "base_uri": "https://localhost:8080/"
        },
        "id": "waWAA_a_l3JB",
        "outputId": "9e247d7d-bbb4-42ca-9487-a58a6cb369c6"
      },
      "execution_count": null,
      "outputs": [
        {
          "output_type": "stream",
          "name": "stdout",
          "text": [
            "[193, 236, 328, 470, 478, 579, 697]\n",
            "425.85714285714283\n",
            "425.85714285714283\n",
            "470.0\n",
            "[195.58 205.9  218.8  282.   470.   528.5  661.6  689.92]\n",
            "{1: 195.58, 5: 205.9, 10: 218.8, 25: 282.0, 50: 470.0, 75: 528.5, 95: 661.5999999999999, 99: 689.92}\n"
          ]
        }
      ]
    },
    {
      "cell_type": "code",
      "source": [
        "nums = np.array([1, 2, 3, 4])\n",
        "nums_2 = np.array([5, 6, 7, 8])\n",
        "nums_sum = nums + nums_2\n",
        "nums_sub = nums - nums_2\n",
        "nums_mul = nums * nums_2\n",
        "print(nums_sum)\n",
        "print(nums_sub)\n",
        "print(nums_mul)\n",
        "\n",
        "nums_3 = np.append(nums, [9, 10])\n",
        "print(nums_3)\n"
      ],
      "metadata": {
        "colab": {
          "base_uri": "https://localhost:8080/"
        },
        "id": "70IAwf6imUqo",
        "outputId": "0e126dbf-4d47-4394-88fe-4d1069ff03b8"
      },
      "execution_count": null,
      "outputs": [
        {
          "output_type": "stream",
          "name": "stdout",
          "text": [
            "[ 6  8 10 12]\n",
            "[-4 -4 -4 -4]\n",
            "[ 5 12 21 32]\n",
            "[ 1  2  3  4  9 10]\n"
          ]
        }
      ]
    },
    {
      "cell_type": "code",
      "source": [
        "nums = np.arange(1, 51)\n",
        "# print(nums, nums.shape)\n",
        "# prices = [1, 2, 3]\n",
        "# print(prices[2:None])\n",
        "\n",
        "# new_shape = (5, -1)\n",
        "# nums_by_strict = nums.reshape(new_shape)\n",
        "# print(nums_by_strict, nums_by_strict.shape)\n",
        "\n",
        "# nums_by_ten = nums.reshape((-1, 10))\n",
        "# nums_by_ten = nums.reshape((10, -1))\n",
        "# print(nums_by_ten)\n",
        "# print(nums_by_ten.sum())\n",
        "# print(nums_by_ten.sum(axis=0))\n",
        "# print(nums_by_ten.sum(axis=1))\n",
        "# print(nums_by_ten.prod(axis=0))\n",
        "# print(nums_by_ten.prod(axis=1))\n",
        "\n",
        "nums_3d = nums.reshape((-1, 5, 2))\n",
        "print(nums_3d)\n",
        "print(nums_3d.shape)\n",
        "print(nums_3d[0, 0, 0])\n",
        "print(nums_3d[:, 0, 0])\n",
        "print(nums_3d[:, :, 0])\n",
        "\n"
      ],
      "metadata": {
        "id": "6DBm9ZwKmZuv"
      },
      "execution_count": null,
      "outputs": []
    },
    {
      "cell_type": "code",
      "source": [
        "nums = np.arange(1, 101, dtype=np.int32)\n",
        "\n",
        "nums_by_ten = nums.reshape((-1, 10))\n",
        "print(nums_by_ten)\n",
        "print(np.linalg.det(nums_by_ten))\n",
        "nums_by_ten_t = nums_by_ten.transpose()\n",
        "print(nums_by_ten_t)\n"
      ],
      "metadata": {
        "id": "uJXvl5lnmfGv"
      },
      "execution_count": null,
      "outputs": []
    },
    {
      "cell_type": "code",
      "source": [
        "nums = np.arange(1, 21)\n",
        "nums_by_ten = nums.reshape((-1, 2, 10))\n",
        "print(nums_by_ten)\n",
        "nums_flat = nums_by_ten.reshape(-1)\n",
        "print(nums_flat)\n",
        "nums = np.arange(1, 10.4736842, 0.47368421)\n",
        "print(len(nums), nums)\n",
        "#\n",
        "nums_2 = np.linspace(1, 10, 9)\n",
        "print(len(nums_2), nums_2)\n",
        "\n",
        "\n",
        "def my_f(x, y):\n",
        "    # print(x.dtype)\n",
        "    return x ** 2 + y + 1\n",
        "\n",
        "\n",
        "# x = np.linspace(1, 10, 10)\n",
        "# y = np.linspace(1, 5, 10)\n",
        "z = np.fromfunction(my_f, (10, 5))\n",
        "print(my_f(9, 4))\n",
        "print(z)\n",
        "\n",
        "# e_arr = np.empty((4, 5))\n",
        "# e_arr = np.empty((4, 5), dtype=np.uint16)\n",
        "e_arr = np.zeros((4, 5), dtype=np.uint16)\n",
        "print(e_arr, e_arr.dtype)\n"
      ],
      "metadata": {
        "colab": {
          "base_uri": "https://localhost:8080/"
        },
        "id": "e2sC9nx4mj9L",
        "outputId": "70c4af8b-5a6f-4156-c16d-2c73c2f2dcee"
      },
      "execution_count": null,
      "outputs": [
        {
          "output_type": "stream",
          "name": "stdout",
          "text": [
            "[[[ 1  2  3  4  5  6  7  8  9 10]\n",
            "  [11 12 13 14 15 16 17 18 19 20]]]\n",
            "[ 1  2  3  4  5  6  7  8  9 10 11 12 13 14 15 16 17 18 19 20]\n",
            "20 [1.         1.47368421 1.94736842 2.42105263 2.89473684 3.36842105\n",
            " 3.84210526 4.31578947 4.78947368 5.26315789 5.7368421  6.21052631\n",
            " 6.68421052 7.15789473 7.63157894 8.10526315 8.57894736 9.05263157\n",
            " 9.52631578 9.99999999]\n",
            "9 [ 1.     2.125  3.25   4.375  5.5    6.625  7.75   8.875 10.   ]\n",
            "86\n",
            "[[ 1.  2.  3.  4.  5.]\n",
            " [ 2.  3.  4.  5.  6.]\n",
            " [ 5.  6.  7.  8.  9.]\n",
            " [10. 11. 12. 13. 14.]\n",
            " [17. 18. 19. 20. 21.]\n",
            " [26. 27. 28. 29. 30.]\n",
            " [37. 38. 39. 40. 41.]\n",
            " [50. 51. 52. 53. 54.]\n",
            " [65. 66. 67. 68. 69.]\n",
            " [82. 83. 84. 85. 86.]]\n",
            "[[0 0 0 0 0]\n",
            " [0 0 0 0 0]\n",
            " [0 0 0 0 0]\n",
            " [0 0 0 0 0]] uint16\n"
          ]
        }
      ]
    },
    {
      "cell_type": "code",
      "source": [
        "nums = np.arange(1, 21)\n",
        "print(nums)\n",
        "# lighten = np.where(pict[0, :, :] > 250)\n",
        "idx_1 = nums > 10\n",
        "print(idx_1, type(idx_1), idx_1.dtype)\n",
        "nums_1 = nums[idx_1]\n",
        "print(nums_1)\n",
        "print(nums[nums > 10])\n",
        "print(nums[nums ** 2 > 10])\n",
        "print(nums.cumsum())\n",
        "print(np.diff(nums))\n"
      ],
      "metadata": {
        "colab": {
          "base_uri": "https://localhost:8080/"
        },
        "id": "jlmggTz9mrWF",
        "outputId": "255e0620-7171-4160-df60-58e8f6fb4839"
      },
      "execution_count": null,
      "outputs": [
        {
          "output_type": "stream",
          "name": "stdout",
          "text": [
            "[ 1  2  3  4  5  6  7  8  9 10 11 12 13 14 15 16 17 18 19 20]\n",
            "[False False False False False False False False False False  True  True\n",
            "  True  True  True  True  True  True  True  True] <class 'numpy.ndarray'> bool\n",
            "[11 12 13 14 15 16 17 18 19 20]\n",
            "[11 12 13 14 15 16 17 18 19 20]\n",
            "[ 4  5  6  7  8  9 10 11 12 13 14 15 16 17 18 19 20]\n",
            "[  1   3   6  10  15  21  28  36  45  55  66  78  91 105 120 136 153 171\n",
            " 190 210]\n",
            "[1 1 1 1 1 1 1 1 1 1 1 1 1 1 1 1 1 1 1]\n"
          ]
        }
      ]
    },
    {
      "cell_type": "code",
      "source": [],
      "metadata": {
        "id": "guNOrOWomzSM"
      },
      "execution_count": null,
      "outputs": []
    }
  ]
}